{
 "cells": [
  {
   "cell_type": "code",
   "execution_count": 1,
   "metadata": {},
   "outputs": [],
   "source": [
    "import matplotlib.pyplot as plt\n",
    "import math\n",
    "import numpy as np"
   ]
  },
  {
   "cell_type": "code",
   "execution_count": 2,
   "metadata": {},
   "outputs": [],
   "source": [
    "# скорость света: 3*10^8 м/с\n",
    "c=3e8\n",
    "# Из долей скорости света к скорости\n",
    "def c2v(cc):\n",
    "    return cc*c\n",
    "# из скорости в доли скорости света\n",
    "def v2c(v):\n",
    "    return v/c\n",
    "\n",
    "# Множитель Лоренца\n",
    "def lorentz(v):\n",
    "    cc = v2c(v)\n",
    "    return math.sqrt(1 - cc*cc)\n",
    "\n",
    "# Преобразование Лоренца координат из неподвижной в движущуюся СО\n",
    "def x2moving(x, t, v):\n",
    "    return (x - v*t)/lorentz(v)\n",
    "\n",
    "# Преобразование Лоренца времени из неподвижной в движущуюся СО\n",
    "def t2moving(x, t, v):\n",
    "    return (t - v2c(v)*x/v)/lorentz(v)\n",
    "\n",
    "# Преобразование массы\n",
    "def m_rel(m,v):\n",
    "    return  m/lorentz(v)\n",
    "\n",
    "def mc2(m):\n",
    "    return m*c*c"
   ]
  },
  {
   "cell_type": "markdown",
   "metadata": {
    "variables": {
     "#1}^2}{c^2": {},
     "#2}^2}{c^2": {}
    }
   },
   "source": [
    "![39.31-33](img/39-31_33.png)\n",
    "\n",
    "$\\newcommand{\\lorentz}[1]{\\sqrt{\\large{1-\\frac{{#1}^2}{c^2}}}}$\n",
    "\n",
    "$\\newcommand{\\divlorentz}[2]{\\large\\frac{#1}{\\sqrt{\\large{1-\\frac{{#2}^2}{c^2}}}}}$\n"
   ]
  },
  {
   "cell_type": "markdown",
   "metadata": {},
   "source": [
    "# 39.31\n",
    "\n",
    "Релятивистское сокращение длины $l = l_0\\lorentz{v}$\n",
    "\n",
    "<blockquote>\n",
    "Теория тут такая. Мы измерили координаты конца тела в системе отсчета наблюдателя в момент $t$. Получили координату начала тела $x_1$ и координату $x_2$ конца тела. Этим координатам в системе отсчета, связанной с телом, соответствуют координаты $x_1'=\\divlorentz{x_1-vt}{v}$ и $x_2'=\\divlorentz{x_2-vt}{v}$.\n",
    "\n",
    "Длина в системе отсчета наблюдателя равна $l = x_2 - x_1$\n",
    "\n",
    "Длина в системе тела равна $l_0 = x_2' - x_1' = \\divlorentz{x_2-vt}{v} - \\divlorentz{x_1-vt}{v} = \\divlorentz{x_2-x_1}{v} = \\divlorentz{l}{v}$\n",
    "\n",
    "Тем самым в системе наблюдателя длина тела $l = l_0\\lorentz{v}$\n",
    "</blockquote>\n",
    "Итак, нам надо найти скорость, при которой сокращение длины составляет заданный процент.\n",
    "\n",
    "$\\lorentz{v} = \\frac{l}{l_0}$\n",
    "\n",
    "$\\large 1 - \\frac{v^2}{c^2} = \\frac{l^2}{l_0^2}$\n",
    "\n",
    "$v = c\\sqrt{\\large 1 - \\frac{l^2}{l_0^2}}$\n",
    "\n",
    " 1. Сокращение составляет 1%: $\\frac{l}{l_0} = 0.99$\n",
    " 2. Сокращение составляет 50%: $\\frac{l}{l_0} = 0.5$"
   ]
  },
  {
   "cell_type": "code",
   "execution_count": 5,
   "metadata": {},
   "outputs": [
    {
     "data": {
      "text/plain": [
       "(0.14106735979665894, 42320207.93899768)"
      ]
     },
     "execution_count": 5,
     "metadata": {},
     "output_type": "execute_result"
    }
   ],
   "source": [
    "dl=0.99\n",
    "cc = math.sqrt(1-dl*dl)\n",
    "cc, c2v(cc)"
   ]
  },
  {
   "cell_type": "code",
   "execution_count": 6,
   "metadata": {},
   "outputs": [
    {
     "data": {
      "text/plain": [
       "(0.8660254037844386, 259807621.13533157)"
      ]
     },
     "execution_count": 6,
     "metadata": {},
     "output_type": "execute_result"
    }
   ],
   "source": [
    "dl=0.5\n",
    "cc = math.sqrt(1-dl*dl)\n",
    "cc,c2v(cc)"
   ]
  },
  {
   "cell_type": "markdown",
   "metadata": {},
   "source": [
    "**Ответ**: \n",
    " 1. Скорость составит 0.14 скорости света, или $4.2\\cdot10^7$ м/с\n",
    " 2. Скорость составит 0.87 скорости света, или $2.6\\cdot10^8$ м/с"
   ]
  },
  {
   "cell_type": "markdown",
   "metadata": {},
   "source": [
    "# 39.32\n",
    "\n",
    "Пусть в системе координат наблюдателя частица родилась в точке $x_0=0$ в момент времени $t_0=0$, а распалась в точке  $x_1=l$ в момент времени $\\tau$. Найдём, как связаны время жизни частицы $T$ и наблюдаемое время $\\tau$.\n",
    "\n",
    "В собственной системе координат частица не двигалась. Она находилась в координате $x'=0$ с момента времени $t'_0 = 0$ по момент времени $t'_1 = T$.\n",
    "\n",
    "Время $t$ и $t'$ связаны по формуле $t' = \\divlorentz{t-\\frac{vx}{c^2}}{v}$ и $t = \\divlorentz{t+\\frac{vx'}{c^2}}{v}$\n",
    "\n",
    "Подставим во вторую формулу $x'=0$ и $t'=T$\n",
    "\n",
    "Получим $\\tau = \\divlorentz{T}{v}$ - это момент времени по часам наблюдателя, когда частица распадётся.\n",
    "\n",
    "Точка, в которой частица распадётся $x = \\divlorentz{x'+vT}{v} = \\divlorentz{vT}{v}$. Так как частица родилась в точке с координтой $x=0$, то длина пробега - это координата точки, в которой частица распалась.\n",
    "\n",
    "$l = \\divlorentz{vT}{v}$"
   ]
  },
  {
   "cell_type": "code",
   "execution_count": 10,
   "metadata": {},
   "outputs": [
    {
     "data": {
      "text/plain": [
       "2008.0070487157923"
      ]
     },
     "execution_count": 10,
     "metadata": {},
     "output_type": "execute_result"
    }
   ],
   "source": [
    "T=2.2e-6 # 2.2 мкс\n",
    "v = 0.95*c # 0.95 с (скорости света)\n",
    "l = v*T/lorentz(v)\n",
    "l # в метрах"
   ]
  },
  {
   "cell_type": "markdown",
   "metadata": {},
   "source": [
    "**Ответ**: 2 километра"
   ]
  },
  {
   "cell_type": "markdown",
   "metadata": {},
   "source": [
    "# 39.33\n",
    "\n",
    "Полная энергия частицы равна $E = \\divlorentz{mc^2}{v}$\n",
    "\n",
    "Когда у частицы нет потенциальной энергии, то полная энергия состоит из энергии покоя $E_0 = mc^2$ и кинетической энергии $T$: $E = E_0 + T$\n",
    "\n",
    "Тогда вопрос задачи формулируется так: чему равна скорость частицы, если ${\\large\\frac{T}{E_0}} = 3 = n$\n",
    "\n",
    "$n = {\\large\\frac{E - E_0}{E_0}} = {\\large\\frac{E}{E_0}} - 1 = \\divlorentz{mc^2}{v}\\frac{1}{mc^2} - 1 = \\divlorentz{1}{v} - 1$\n",
    "\n",
    "$\\divlorentz{1}{v} = n+1$\n",
    "\n",
    "$\\lorentz{v} = \\large\\frac{1}{n+1}$\n",
    "\n",
    "$\\large\\frac{v^2}{c^2} = 1 - \\frac{1}{(n+1)^2}$\n",
    "\n",
    "$v = c \\sqrt{\\large 1 - \\frac{1}{(n+1)^2}}$"
   ]
  },
  {
   "cell_type": "code",
   "execution_count": 12,
   "metadata": {},
   "outputs": [
    {
     "data": {
      "text/plain": [
       "0.9682458365518543"
      ]
     },
     "execution_count": 12,
     "metadata": {},
     "output_type": "execute_result"
    }
   ],
   "source": [
    "n=3\n",
    "r = 1.0/(n+1)\n",
    "cc = math.sqrt(1 - r*r)\n",
    "cc"
   ]
  },
  {
   "cell_type": "markdown",
   "metadata": {},
   "source": [
    "**Ответ**: скорость должна быть 0.97 скорости света"
   ]
  },
  {
   "cell_type": "markdown",
   "metadata": {},
   "source": [
    "![39.37-40](img/39-37_40.png)"
   ]
  },
  {
   "cell_type": "markdown",
   "metadata": {},
   "source": [
    "# 39.37\n",
    "\n",
    "До сжатия пружины её энергия была $E_0 = m_0c^2$\n",
    "\n",
    "Когда пружину сжали, добавилась энергия $\\Delta E = k\\large\\frac{x^2}{2}$\n",
    "\n",
    "Прибавка к релятивистской массе $\\Delta m = {\\large \\frac{\\Delta E}{c^2}} = {\\large \\frac{kx^2}{2c^2}}$"
   ]
  },
  {
   "cell_type": "code",
   "execution_count": 13,
   "metadata": {},
   "outputs": [
    {
     "data": {
      "text/plain": [
       "2.777777777777778e-16"
      ]
     },
     "execution_count": 13,
     "metadata": {},
     "output_type": "execute_result"
    }
   ],
   "source": [
    "k=5000 # 5кН/м\n",
    "x = 0.1 # 10 см\n",
    "delta_m = k*x*x/(2*c*c)\n",
    "delta_m"
   ]
  },
  {
   "cell_type": "markdown",
   "metadata": {},
   "source": [
    "**Ответ**: масса пружины увеличивается на $2.8 \\cdot 10^{-16}$ кг"
   ]
  },
  {
   "cell_type": "markdown",
   "metadata": {},
   "source": [
    "# 39.40\n",
    "\n",
    "Уменьшение массы на $\\Delta m$ приводит к высвобождению энергии $E = \\Delta mc^2$"
   ]
  },
  {
   "cell_type": "code",
   "execution_count": 17,
   "metadata": {},
   "outputs": [
    {
     "data": {
      "text/plain": [
       "(90000000000.0, 90.0)"
      ]
     },
     "execution_count": 17,
     "metadata": {},
     "output_type": "execute_result"
    }
   ],
   "source": [
    "percent = 0.1/100 # 0.1%\n",
    "m = 1.0/1000 # 1g\n",
    "delta_E = percent*m*c*c\n",
    "\n",
    "delta_E, delta_E/1e9"
   ]
  },
  {
   "cell_type": "markdown",
   "metadata": {},
   "source": [
    "**Ответ**: $9\\cdot 10^{10}$ Дж"
   ]
  },
  {
   "cell_type": "markdown",
   "metadata": {},
   "source": [
    "![39.51-52](img/39-51_52.png)\n",
    "\n"
   ]
  },
  {
   "cell_type": "markdown",
   "metadata": {},
   "source": [
    "# 39.51\n",
    "\n",
    "В системе отсчёта, связанной с частицей, направим ось координат в ту же сторону, как и в системе координат наблюдателя. Тогда скорость одной из частиц будет $-u$, а второй $u$.\n",
    "\n",
    "По правилу сложения скоростей найдём скорости частиц в системе наблюдателя:\n",
    "\n",
    "$v_1 = \\large\\frac{-u +v}{1 + \\frac{uv}{c^2}}$, $v_2 = \\large\\frac{u +v}{1 + \\frac{uv}{c^2}}$\n",
    "\n",
    "По условию задачи $v_1 = 0$, следовательно $v = u$. Подставим найденное значение скорости частицы до распада в формулу для $v_2$: $v_2 = \\large\\frac{2u}{1 + \\frac{u^2}{c^2}}$\n",
    "\n",
    "**Ответ**: скорость частицы перед распадом была равна $u$. Скорость второго оскола в системе отсчета наблюдателя $v_2 = \\large\\frac{2u}{1 + \\frac{u^2}{c^2}}$"
   ]
  },
  {
   "cell_type": "markdown",
   "metadata": {},
   "source": [
    "# 39.52\n",
    "\n",
    "начальная скорость $v_0 = 0.04c$. Её полная энергия $W_0 = \\divlorentz{mc^2}{v_0} = 1.0008mc^2$\n",
    "\n",
    "Кинетическая энергия $T_0 = W_0 - mc^2 = 0.0008mc^2$\n",
    "\n",
    "Для скорости $v_1 = 2v_0$ полная энергия равна $W_1 = \\divlorentz{mc^2}{v_1} = 1.0032mc^2$, а кинетическая равна $T_1 = 0.0032mc^2$. **Кинетическая энергия выросла в 4 раза**.\n",
    "\n",
    "Для скорости $v_2 = 20v_0$: $W_2 = \\divlorentz{mc^2}{v_2} = 1.6667mc^2$, и кинетическая энергия равна $T_2 = 0.6667mc^2$. **Кинетическая энергия возросла в $832.3$ раза**."
   ]
  },
  {
   "cell_type": "code",
   "execution_count": 83,
   "metadata": {},
   "outputs": [
    {
     "name": "stdout",
     "output_type": "stream",
     "text": [
      "W0 1.0008009612817945\n",
      "W1 1.00321544238141\n",
      "W2 1.666666666666667\n",
      "T2/T0 832.3331998932925\n"
     ]
    }
   ],
   "source": [
    "v0 = 0.04;W0 = 1/math.sqrt(1-v0*v0)\n",
    "print(\"W0\", W0)\n",
    "v1=2*v0; W1 = 1/math.sqrt(1-v1*v1)\n",
    "print(\"W1\", W1)\n",
    "v2=20*v0; W2 = 1/math.sqrt(1-v2*v2)\n",
    "print(\"W2\", W2)\n",
    "print(\"T2/T0\", (W2-1)/(W0-1))"
   ]
  },
  {
   "cell_type": "markdown",
   "metadata": {},
   "source": [
    "![39.54](img/39-54.png)"
   ]
  },
  {
   "cell_type": "markdown",
   "metadata": {},
   "source": [
    "# 39.54\n",
    "\n",
    "Пусть в системе координат $K$ координаты двух событий в пространстве времени равны $(x_0, t_0)$  и $(x_1, t_1)$. Про эти координаты нам известно, что $x_1 - x_0 = l$, $t_1 - t_0 = \\tau$.\n",
    "\n",
    "Надём соответствующие координаты $(x_0', t_0')$  и $(x_1', t_1')$ в системе координат $K'$, которая двигается относительно $K$ со скоростью $v$:\n",
    "\n",
    "$\\begin{cases}\n",
    "x_0' = \\divlorentz{x_0 - vt_0}{v}, x_1' = \\divlorentz{x_1 - vt_1}{v}\\\\\n",
    "t_0' = \\divlorentz{t_0 + \\frac{v}{c^2}x_0}{v}, t_1' = \\divlorentz{t_1 + \\frac{v}{c^2}x_1}{v}\n",
    "\\end{cases}\n",
    "$\n",
    "\n",
    "Найдём, чему равняется $c\\tau' - l'$\n",
    "\n",
    "$c\\tau' - l' = c(t_1' - t_0') - (x_1' - x_0') = c\\divlorentz{t_1 - \\frac{v}{c^2}x_1 - (t_0 - \\frac{v}{c^2}x_0)}{v} - \\divlorentz{x_1 - vt_1 - (x_0 - vt_0)}{v} = \\\\\n",
    "= c\\divlorentz{\\tau - \\frac{v}{c^2}l}{v} - \\divlorentz{l - v\\tau}{v} = \n",
    "\\divlorentz{1}{v}(c\\tau-\\frac{v}{c}l - (l - v\\tau))$\n",
    "\n",
    "Преобразуем выражение в скобках. Раскроем скобки и сгруппируем члены: \n",
    "\n",
    "$c\\tau-\\frac{v}{c}l - (l - v\\tau) = c\\tau + v\\tau - \\frac{v}{c}l - l = c\\tau(1+\\frac{v}{c}) - l(1+\\frac{v}{c})=(c\\tau-l)(1+\\frac{v}{c})$\n",
    "\n",
    "Итого мы получили: $S' = c\\tau' - l' = (c\\tau - l)\\divlorentz{1+\\frac{v}{c}}{v} = S\\divlorentz{1+\\frac{v}{c}}{v}$\n",
    "\n",
    "Так как скорость системы отсчета $K'$ не превосходит скорость света: $|v|\\leq c$, то $1+\\frac{v}{c} \\geq 0$. Тем самым в выражении для $S'$ множитель неотрицателен: $\\divlorentz{1+\\frac{v}{c}}{v} \\geq 0$\n",
    "\n",
    "Следовательно, если система $K'$ движется со скоростью, меньшей скорости света, то этот множитель больше нуля и $S'$ и $S$ одного знака. Множитель $\\divlorentz{1+\\frac{v}{c}}{v}$ может обраться в ноль только в одном случае - когда $v = -c$, то есть система отсчета $K'$ движется со скоростью света навстречу наблюдателю. В этой системе отсчета $S' = 0$.\n",
    "\n",
    "Утверждение задачи доказано."
   ]
  },
  {
   "cell_type": "markdown",
   "metadata": {},
   "source": [
    "![39.55](img/39-55.png)"
   ]
  },
  {
   "cell_type": "markdown",
   "metadata": {},
   "source": [
    "# 39.55\n",
    "\n",
    "Обозначим событие \"удар по мячу\" координатами $(x_0, t_0)$, а событие \"попадание в окно\" координатами $(x_1, t_1)$. Пусть мяч летит со скоростью $u$, намного меньшей скорости света, тогда $x_1 - x_0 = u(t_1 - t_0)$.\n",
    "\n",
    "В системе отсчета $K'$, двигающейся со скоростью $v$ относительно наблюдателя, координаты этих событий будут $(x_0', t_0')$  и $(x_1', t_1')$.\n",
    "\n",
    "Запишем условие \"мяч влетел в окно одновременно с ударом\". Очевидно, это $t_1' = t_0'$.\n",
    "\n",
    "Выпишем явные формулы для $t_1'$ и $t_0'$: $t_0' = \\divlorentz{t_0 + \\frac{v}{c^2}x_0}{v}, t_1' = \\divlorentz{t_1 + \\frac{v}{c^2}x_1}{v}$\n",
    "\n",
    "Тогда $t_1' = t_0'$ выполняется в том и только том случае, когда $\\divlorentz{t_1 - \\frac{v}{c^2}x_1}{v} = \\divlorentz{t_0 - \\frac{v}{c^2}x_0}{v} $\n",
    "\n",
    "Избавимся от знаменателя и соберём члены с временем слева, а члены с координатами справа.\n",
    "$t_1 - t_0 = \\frac{v}{c^2}(x_1 - x_0) = \\frac{v}{c^2}u(t_1 - t_0)$\n",
    "\n",
    "Такак $t_1 - t_0 > 0$, то на это значение можно сократить обе части равенства.\n",
    "\n",
    "$\\frac{uv}{c^2} = 1$\n",
    "\n",
    "Выразим необходимую скорость $v$ через $u$: $v = \\frac{c^2}{u}$\n",
    "\n",
    "Так как $u < c$, то скорость $v$ должна быть выше скорости света. \n",
    "\n",
    "**Ответ**: такая система отсчета не существует."
   ]
  },
  {
   "cell_type": "markdown",
   "metadata": {},
   "source": [
    "![39.56](img/39-56.png)"
   ]
  },
  {
   "cell_type": "markdown",
   "metadata": {},
   "source": [
    "# 39.56\n",
    "\n",
    "Полная энергия протона $W = \\divlorentz{mc^2}{v} = T + mc^2$, где $T$ - кинетическая энергия. Так как по условию задачи $T = 2mc^2$, то $W = 3mc^2$.\n",
    "\n",
    "Следовательно $\\divlorentz{mc^2}{v} = 3mc^2$\n",
    "\n",
    "$\\divlorentz{1}{v} = 3$\n",
    "\n",
    "$\\lorentz{v} = \\frac{1}{3}$\n",
    "\n",
    "$1 - \\frac{v^2}{c^2} = \\frac{1}{9} \\implies \\frac{v^2}{c^2} = \\frac{8}{9} \\implies v = \\frac{2\\sqrt 2}{3}c \\implies v \\approx 0.94c$\n",
    "\n",
    "Импульс равен $p = \\divlorentz{mv}{v} = 3mv = 2\\sqrt{2}mc$\n",
    "\n",
    "Масса протона равна $1,672\\cdot10^{-27}$ кг.\n",
    "\n",
    "Импульс"
   ]
  },
  {
   "cell_type": "code",
   "execution_count": 86,
   "metadata": {},
   "outputs": [
    {
     "data": {
      "text/plain": [
       "0.9428090415820634"
      ]
     },
     "execution_count": 86,
     "metadata": {},
     "output_type": "execute_result"
    }
   ],
   "source": [
    "math.sqrt(8/9)"
   ]
  },
  {
   "cell_type": "code",
   "execution_count": 87,
   "metadata": {},
   "outputs": [
    {
     "data": {
      "text/plain": [
       "1.418739045772689e-18"
      ]
     },
     "execution_count": 87,
     "metadata": {},
     "output_type": "execute_result"
    }
   ],
   "source": [
    "m = 1.672e-27\n",
    "2*math.sqrt(2)*m*c"
   ]
  },
  {
   "cell_type": "markdown",
   "metadata": {},
   "source": [
    "**Ответ**: импульс протона равен $1.4\\cdot10^{-18}$ кг$\\cdot$м/с"
   ]
  },
  {
   "cell_type": "code",
   "execution_count": null,
   "metadata": {},
   "outputs": [],
   "source": []
  }
 ],
 "metadata": {
  "kernelspec": {
   "display_name": "Python 3",
   "language": "python",
   "name": "python3"
  },
  "language_info": {
   "codemirror_mode": {
    "name": "ipython",
    "version": 3
   },
   "file_extension": ".py",
   "mimetype": "text/x-python",
   "name": "python",
   "nbconvert_exporter": "python",
   "pygments_lexer": "ipython3",
   "version": "3.6.9"
  }
 },
 "nbformat": 4,
 "nbformat_minor": 4
}
