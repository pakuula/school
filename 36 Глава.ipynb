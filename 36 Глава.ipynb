{
 "cells": [
  {
   "cell_type": "code",
   "execution_count": 10,
   "metadata": {},
   "outputs": [],
   "source": [
    "import matplotlib.pyplot as plt"
   ]
  },
  {
   "cell_type": "markdown",
   "metadata": {},
   "source": [
    "# Необходимый уровень"
   ]
  },
  {
   "cell_type": "markdown",
   "metadata": {},
   "source": [
    "![Title](img/36-13.png)"
   ]
  },
  {
   "cell_type": "markdown",
   "metadata": {},
   "source": [
    "Чему равна оптическая разница хода в единицах длины волны? Для этого надо разделить величину разницы хода на длину волны $n=\\frac{\\Delta d}{\\lambda}$. Если эта величина целая, то свет усиливается. Если дробная - то ослабляется. Если эта величина равна $m + \\frac{1}{2}$, то две волны вообще обнуляют друг друга."
   ]
  },
  {
   "cell_type": "markdown",
   "metadata": {},
   "source": [
    "случай а) длина волны 500 нм"
   ]
  },
  {
   "cell_type": "code",
   "execution_count": 1,
   "metadata": {},
   "outputs": [],
   "source": [
    "delta_d=0.000006"
   ]
  },
  {
   "cell_type": "code",
   "execution_count": 2,
   "metadata": {},
   "outputs": [],
   "source": [
    "wave_length=500*1e-9"
   ]
  },
  {
   "cell_type": "markdown",
   "metadata": {},
   "source": [
    "Выражение `500*1e-9` означает `500` умножить на $10^{-9}$, то есть 500 нанометров"
   ]
  },
  {
   "cell_type": "code",
   "execution_count": 3,
   "metadata": {},
   "outputs": [
    {
     "data": {
      "text/plain": [
       "11.999999999999998"
      ]
     },
     "execution_count": 3,
     "metadata": {},
     "output_type": "execute_result"
    }
   ],
   "source": [
    "delta_d/wave_length"
   ]
  },
  {
   "cell_type": "markdown",
   "metadata": {},
   "source": [
    "В разницу хода укладывается челое число волн. Поэтому свет будет усиливаться."
   ]
  },
  {
   "cell_type": "markdown",
   "metadata": {},
   "source": [
    "случай б) длина волны 480 нм"
   ]
  },
  {
   "cell_type": "code",
   "execution_count": 4,
   "metadata": {},
   "outputs": [],
   "source": [
    "wave_length = 480*1e-9"
   ]
  },
  {
   "cell_type": "code",
   "execution_count": 5,
   "metadata": {},
   "outputs": [
    {
     "data": {
      "text/plain": [
       "12.499999999999998"
      ]
     },
     "execution_count": 5,
     "metadata": {},
     "output_type": "execute_result"
    }
   ],
   "source": [
    "delta_d/wave_length"
   ]
  },
  {
   "cell_type": "markdown",
   "metadata": {},
   "source": [
    "В разницу хода укладывается полуцелое число волн. Свет будет ослаблен.\n",
    "\n",
    "**Ответ**: а) усиление б) ослабление"
   ]
  },
  {
   "cell_type": "markdown",
   "metadata": {},
   "source": [
    "![Задача 36.14 -- 16.17](img/36-14_17.png)"
   ]
  },
  {
   "cell_type": "markdown",
   "metadata": {},
   "source": [
    "## Задача 36.14.\n",
    "\n",
    "Видимый свет - это электромагнитные волны с длиной волны от 380 нм до 780 нм. Нужно найти длину волны из этого диапазона, которая целое число раз укладывается в разность хода 0.9 мкм.\n",
    "\n",
    "Эту задачу можно решить двумя способами. Первый угадать ответ. Второй - решить строго.\n",
    "\n",
    "**Первый способ**. Сначала угадаем. $d = 0.9 мкм$ - это 900 нм. Длину волны можно подобрать. \n",
    "\n",
    " - Сначала возьмём вариант $n=1$: $\\lambda = d/n = 900 нм$. Такая длина волны выходит за пределы диапазона 380-780 нм. \n",
    " - Теперь возьмём $n=2$: $\\lambda = d/2 = 450 нм$. Такая длина волны укладывается в диапазон 380-780 нм. \n",
    " - Теперь возьмём $n=2$: $\\lambda = d/3 = 3000 нм$. Такая длина выходит за пределы диапазона 380-780 нм. \n",
    " - Для $n>3$ длина волны будет ещё меньше, $\\lambda(n) = d/n < d/3 = 300$ и точно не попадёт в нужный диапазон.\n",
    " \n",
    " Поэтому ответ будет 450 нм.\n",
    " \n",
    "**Второй способ**. Обозначим границы диапазона $\\lambda_1 = 380 нм, \\lambda_2 = 780 нм$, тогда справедливо неравенство $\\lambda_1 \\leq \\frac{d}{n} \\leq \\lambda_2$. \n",
    "\n",
    "Преобразуем неравенство, переведём $n$ из числителя в знаменатель. При таком преобразовании изменится знак неравенства: $\\frac{1}{\\lambda_1} \\geq \\frac{n}{d} \\geq \\frac{1}{\\lambda_2}$. Закончим преобразование: $\\frac{d}{\\lambda_1} \\geq n \\geq \\frac{d}{\\lambda_2}$.\n",
    "\n",
    "Подставим в получившуюся формулу параметры из условия задачи: $\\frac{900}{380} \\geq n \\geq \\frac{900}{780}$."
   ]
  },
  {
   "cell_type": "code",
   "execution_count": 6,
   "metadata": {},
   "outputs": [
    {
     "data": {
      "text/plain": [
       "'900/380 = 2.37, 900/780 = 1.15'"
      ]
     },
     "execution_count": 6,
     "metadata": {},
     "output_type": "execute_result"
    }
   ],
   "source": [
    "f'900/380 = {900/380:.2f}, 900/780 = {900/780:.2f}'"
   ]
  },
  {
   "cell_type": "markdown",
   "metadata": {},
   "source": [
    "Единственное целое число в интервале $[1.15, 2.37]$ - это число 2. Ему соответствует длина волны $d/n = \\frac{900}{2} = 450нм$\n",
    "\n",
    "**Ответ**: 450нм."
   ]
  },
  {
   "cell_type": "markdown",
   "metadata": {
    "variables": {
     "17.17e-6/(404*1e-9)": "42.5"
    }
   },
   "source": [
    "## Задача 36.15\n",
    "\n",
    "$\\lambda = 404нм$, оптическая разность хода $d = 17.17мкм$\n",
    "\n",
    "Сколько длин волн укладывается в оптическую разность хода: $n = \\frac{17.17\\cdot 10^{-6}}{404\\cdot 10{-9}}=${{17.17e-6/(404*1e-9)}}\n",
    "\n",
    "Число волн выражается полуцелым числом, поэтому свет будет ослаблен.\n",
    "\n",
    "**Ответ**: будет наблюдаться ослабление света."
   ]
  },
  {
   "cell_type": "markdown",
   "metadata": {},
   "source": [
    "## Задача 36.16\n",
    "\n",
    "$\\lambda = 450нм$\n",
    "\n",
    "Так как в точке наблюдается интерференционный минимум, то разность хода световых лучей выражаеся полуцелым числом длин волн: $d = \\lambda\\cdot(n+\\frac{1}{2}) = \\frac{\\lambda}{2}(2n+1)$. Подставив в формулу длину волны получим:\n",
    "\n",
    "**Ответ**: $225нм \\cdot(2n + 1)$, где n - положительное целое число"
   ]
  },
  {
   "cell_type": "markdown",
   "metadata": {},
   "source": [
    "## Задача 36.17\n",
    "\n",
    "Частота света $\\nu = 6\\cdot 10^{14} Гц$, смещение точки относительно центра отрезка $AB$ $\\Delta l = 0.25 мкм$\n",
    "\n",
    "Вычислим разницу хода лучей из источников А и В. \n",
    "\n",
    "Обозначим длину отрезка $AB$ как $L$. Для определённости предположим, что точка смещена в сторону источника А. Тогда длина хода луча из источника А составит $l_A = \\frac{L}{2} - \\Delta l$ , а из источника В $l_B = \\frac{L}{2} + \\Delta l$ .\n",
    "\n",
    "Оптическая разность хода составит $\\Delta d = |l_A - l_b| = 2\\cdot \\Delta l$.\n",
    "\n",
    "Найдём длину волны света: $\\lambda = \\frac{c}{\\nu}$, где $c$ - скорость света.\n",
    "\n",
    "Теперь всё готово, чтобы найти, сколько длин волн укладываются в оптическую разность хода: $n = \\frac{\\Delta d}{\\lambda} = 2\\frac{\\Delta l}{c /\\nu} = 2\\frac{\\Delta l\\cdot\\nu}{c}$\n",
    "\n",
    "Скорость света возьмём 300 тысяч километров в секунду, что составляет в единицах СИ $3\\cdot 10^8 м/с$"
   ]
  },
  {
   "cell_type": "code",
   "execution_count": 9,
   "metadata": {},
   "outputs": [
    {
     "data": {
      "text/plain": [
       "1.0"
      ]
     },
     "execution_count": 9,
     "metadata": {},
     "output_type": "execute_result"
    }
   ],
   "source": [
    "2*(0.25e-6)*6e14 / 3e8"
   ]
  },
  {
   "cell_type": "markdown",
   "metadata": {},
   "source": [
    "Разница хода лучей составляет 1 длину волны. Следовательно ...\n",
    "\n",
    "**Ответ**: наблюдается интерференционный максимум"
   ]
  },
  {
   "cell_type": "markdown",
   "metadata": {},
   "source": [
    "# Достаточный уровень"
   ]
  },
  {
   "cell_type": "markdown",
   "metadata": {},
   "source": [
    "![Задачи 36.31-34](img/36-31_34.png)"
   ]
  },
  {
   "cell_type": "markdown",
   "metadata": {},
   "source": [
    "# Задача 36.31\n",
    "\n",
    "Расстояние между источниками $\\Delta l = 0.5 мм$, расстояние от источников до плоскости экрана $L = 3м$, длина волны $\\lambda = 0.6 мкм$.\n",
    "\n",
    "_Света, не удивляйся программе в следующей ячейке. Она рисует чертёж_"
   ]
  },
  {
   "cell_type": "code",
   "execution_count": 34,
   "metadata": {},
   "outputs": [
    {
     "data": {
      "image/png": "[encoded data removed]",
      "text/plain": [
       "<Figure size 720x720 with 1 Axes>"
      ]
     },
     "metadata": {
      "needs_background": "light"
     },
     "output_type": "display_data"
    }
   ],
   "source": [
    "def draw_line(A,B, **plot_kwargs):\n",
    "    A_x, A_y = A\n",
    "    B_x, B_y = B\n",
    "    plt.plot((A_x, B_x), (A_y, B_y), **plot_kwargs)\n",
    "\n",
    "_ = plt.figure(figsize=(10,10))\n",
    "\n",
    "Screen_Left, Screen_right = (-2,0),(2,0)\n",
    "A,B = (-0.05, 3),(0.05,3)\n",
    "\n",
    "# Рисуем линию экрана\n",
    "draw_line(Screen_Left,Screen_right)\n",
    "# Рисуем источники света\n",
    "draw_line(A,B, marker='o'); plt.text(A[0]-0.1, A[1]-0.05, \"A\"); plt.text(B[0]+0.05, B[1]-0.05, 'B');\n",
    "plt.text(-0.05,3, '$\\Delta l$')\n",
    "# Перпендикуляр от линии источников к плоскости экрана\n",
    "draw_line((0,3),(0,0), ls='--'); plt.text(-0.08, 1.5, \"L\")\n",
    "\n",
    "# Точка, в которой будет первый максимум освещённости\n",
    "X=(0.2,0); plt.text(*X, \"X\")\n",
    "plt.text(0.1, -0.05, \"x\")\n",
    "# Ход лучей из А и В в Х\n",
    "draw_line(A,X); draw_line(B,X); \n"
   ]
  },
  {
   "cell_type": "markdown",
   "metadata": {},
   "source": [
    "Пусть точка X первого максимума освещённости смещена относительно центра экрана на расстояние x. Посчитаем ход лучей из А и В в точку X:\n",
    "\n",
    "$d_{AX} = \\sqrt{L^2 + (\\frac{\\Delta l}{2} + x)^2}  $\n",
    "\n",
    "$d_{BX} = \\sqrt{L^2 + (\\frac{\\Delta l}{2} - x)^2} $\n",
    "\n",
    "Разница хода лучей $\\Delta d = d_{AX} - d_{BX}$\n",
    "\n",
    "Для вычисления $d_{AX} - d_{BX}$ учебник предлагает вот какой приём. При вычислении разности двух корней $\\sqrt{a} - \\sqrt{b}$ умножим и разделим это выражение на $\\sqrt{a} + \\sqrt{b}$: $\\sqrt{a} - \\sqrt{b} = (\\sqrt{a} - \\sqrt{b})\\frac{\\sqrt{a} + \\sqrt{b}}{\\sqrt{a} + \\sqrt{b}} = \\frac{(\\sqrt{a} - \\sqrt{b})(\\sqrt{a} + \\sqrt{b})}{\\sqrt{a} + \\sqrt{b}} = \\frac{a-b}{\\sqrt{a} + \\sqrt{b}}$.\n",
    "\n",
    "Если $a$ и $b$ имеют вид $\\sqrt{L^2 + \\delta L^2}$, где $\\delta L$ во много-много раз меньше чем $L$ (что обозначается как $\\delta L \\ll L$), то при суммировании малыми членами можно пренебречь: $\\sqrt{a} \\approx \\sqrt{L^2} = L$, $\\sqrt{b} \\approx \\sqrt{L^2} = L$, и их сумма получается приблизительно равной $\\sqrt{a} + \\sqrt{b} \\approx 2L$.\n",
    "\n",
    "Так и поступим для вычисления $\\Delta d$: \n",
    "\n",
    "- $d_{AX} = \\sqrt{L^2 + (\\frac{\\Delta l}{2} + x)^2} \\approx L$\n",
    "- $d_{BX} = \\sqrt{L^2 + (\\frac{\\Delta l}{2} - x)^2} \\approx L$\n",
    "\n",
    "Следовательно, \n",
    "\n",
    "$\\Delta d = d_{AX} - d_{BX} = {\\large\\frac{d_{AX}^2 - d_{BX}^2}{d_{AX} + d_{BX}}} \\approx {\\large\\frac{(L^2 + (\\frac{\\Delta l}{2} + x)^2) - (L^2 + (\\frac{\\Delta l}{2} - x)^2)}{L+L}} = {\\large\\frac{(\\frac{\\Delta l}{2} + x)^2 - (\\frac{\\Delta l}{2} - x)^2}{2L}}$\n",
    "\n",
    "В числителе раскроем скобки и упростим: $(\\frac{\\Delta l}{2} + x)^2 - (\\frac{\\Delta l}{2} - x)^2 = (\\frac{\\Delta l}{2})^2 +2\\frac{\\Delta l}{2}x + x^2 - ((\\frac{\\Delta l}{2})^2 - 2\\frac{\\Delta l}{2}x + x^2) = 4x\\frac{\\Delta l}{2} = 2x\\Delta l$\n",
    "\n",
    "В результате получаем: $\\Delta d \\approx {\\large{\\frac{2x\\Delta l}{2L}}} = {\\large{\\frac{x\\Delta l}{L}}}$\n",
    "\n",
    "По условию задачи в точке Х находится первый максимум освещённости, то есть $\\Delta d = 1\\cdot\\lambda$.\n",
    "\n",
    "Подставляем это выражение в формулу для $\\Delta d$: $\\lambda = {\\large{\\frac{x\\Delta l}{L}}}$\n",
    "\n",
    "$x = {\\frac{\\lambda L}{\\Delta l}} $ "
   ]
  },
  {
   "cell_type": "code",
   "execution_count": 38,
   "metadata": {},
   "outputs": [
    {
     "data": {
      "text/plain": [
       "0.0036"
      ]
     },
     "execution_count": 38,
     "metadata": {},
     "output_type": "execute_result"
    }
   ],
   "source": [
    "wave_length = 0.6e-6 # 0.6 мкм\n",
    "L = 3 # 3 м\n",
    "delta_l = 0.5e-3 # 0.5 мм\n",
    "\n",
    "x = (wave_length*L)/delta_l\n",
    "\n",
    "x"
   ]
  },
  {
   "cell_type": "markdown",
   "metadata": {},
   "source": [
    "**Ответ**: первый максимум освещённости смещён на 3.6 мм"
   ]
  },
  {
   "cell_type": "code",
   "execution_count": null,
   "metadata": {},
   "outputs": [],
   "source": []
  }
 ],
 "metadata": {
  "kernelspec": {
   "display_name": "Python 3",
   "language": "python",
   "name": "python3"
  },
  "language_info": {
   "codemirror_mode": {
    "name": "ipython",
    "version": 3
   },
   "file_extension": ".py",
   "mimetype": "text/x-python",
   "name": "python",
   "nbconvert_exporter": "python",
   "pygments_lexer": "ipython3",
   "version": "3.6.9"
  }
 },
 "nbformat": 4,
 "nbformat_minor": 4
}
