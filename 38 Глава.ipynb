{
 "cells": [
  {
   "cell_type": "code",
   "execution_count": 2,
   "metadata": {},
   "outputs": [],
   "source": [
    "import matplotlib.pyplot as plt\n",
    "import numpy as np\n",
    "import math"
   ]
  },
  {
   "cell_type": "markdown",
   "metadata": {},
   "source": [
    "![38 глава](img/38-16_20.png)"
   ]
  },
  {
   "cell_type": "markdown",
   "metadata": {},
   "source": [
    "# 38.16\n",
    "\n",
    "![sun](img/sun.png)\n",
    "Дано: высота столба $h = 1.5$м, длина тени $l =1$м, найти высоту солнца $\\alpha$\n",
    "\n",
    "Решение: тангенс угла $\\alpha$ равен отношению вертикального катета к горизонтальному, т.е. $tg\\alpha = \\frac{h}{l}$\n",
    "\n",
    "$\\alpha = arctg\\frac{h}{l}$"
   ]
  },
  {
   "cell_type": "code",
   "execution_count": 14,
   "metadata": {},
   "outputs": [
    {
     "data": {
      "text/plain": [
       "0.982793723247329"
      ]
     },
     "execution_count": 14,
     "metadata": {},
     "output_type": "execute_result"
    }
   ],
   "source": [
    "math.atan(1.5/1.0) # это ответ в радианах. Чтобы получить ответ в градусах, нужно умножить на 180/pi"
   ]
  },
  {
   "cell_type": "code",
   "execution_count": 15,
   "metadata": {},
   "outputs": [
    {
     "data": {
      "text/plain": [
       "56.309932474020215"
      ]
     },
     "execution_count": 15,
     "metadata": {},
     "output_type": "execute_result"
    }
   ],
   "source": [
    "math.atan(1.5/1.0)*180.0/math.pi"
   ]
  },
  {
   "cell_type": "markdown",
   "metadata": {},
   "source": [
    "**Ответ** 56.3 градуса\n",
    "\n",
    "В задачнике ответ неверный.  Если высота солнца 55 градусов, то длина тени будет 1 метр 5 см"
   ]
  },
  {
   "cell_type": "code",
   "execution_count": 26,
   "metadata": {},
   "outputs": [
    {
     "data": {
      "text/plain": [
       "1.0503113073145647"
      ]
     },
     "execution_count": 26,
     "metadata": {},
     "output_type": "execute_result"
    }
   ],
   "source": [
    "# проверка ответа из задачника\n",
    "h/math.tan(55.0/180.0*math.pi)"
   ]
  },
  {
   "cell_type": "markdown",
   "metadata": {},
   "source": [
    "# 38.17\n",
    "\n",
    "Высота метровой линейки $h_r = 1$ метр, длина тени $l_r = 0.9$м. Длина тени дерева $l_t = 6$м.\n",
    "\n",
    "Найти $h_t$ высоту дерева.\n",
    "\n",
    "Как мы установили в предыдущей задаче, тангенс угла высоты солнца есть отношение высоты объекта к длине его тени. То есть $tg \\alpha = \\frac{h_r}{l_r} = \\frac{h_t}{l_t}$\n",
    "\n",
    "Следовательно, $h_t = \\frac{h_r}{l_r}\\cdot l_t$"
   ]
  },
  {
   "cell_type": "code",
   "execution_count": 27,
   "metadata": {},
   "outputs": [
    {
     "data": {
      "text/plain": [
       "6.666666666666667"
      ]
     },
     "execution_count": 27,
     "metadata": {},
     "output_type": "execute_result"
    }
   ],
   "source": [
    "hr = 1.0; lr = 0.9; lt = 6.0\n",
    "hr/lr*lt"
   ]
  },
  {
   "cell_type": "markdown",
   "metadata": {},
   "source": [
    "**Ответ**: высота дерева 6.7 метра"
   ]
  },
  {
   "cell_type": "markdown",
   "metadata": {},
   "source": [
    "# 38.18\n",
    "\n",
    "Свет падает на зеркало под углом $\\alpha$ к вертикали. Зеркало повернули по часовой стрелке на угол $\\beta = 30^\\circ$.\n",
    "\n",
    "![mirror](img/mirror.png)\n",
    "\n",
    "После поворота угол между лучем света и перпендикуляром к поверхности зеркала стал $\\gamma = \\alpha + \\beta$. Отраженный луч составил с перпендикуляром к поверхности зеркала тот же угол $\\gamma$\n",
    "\n",
    "Но так как перпендикуляр к поверхности зеркала тоже повернулся на угол $\\beta$, то угол между направлением луча света и вертикалью составил $\\gamma + \\beta$, то есть $\\alpha + 2\\cdot\\beta$.\n",
    "\n",
    "**Ответ**: отраженный луч повернётся на $60^\\circ$ по часовой стрелке."
   ]
  },
  {
   "cell_type": "markdown",
   "metadata": {},
   "source": [
    "# 38.19\n",
    "\n",
    "Свет падает к плоскости зеркала под углом $\\alpha$, с отраженным лучом угол составляет $\\beta$. Тогда $\\alpha+\\beta+\\alpha = 180^\\circ$\n",
    "\n",
    "По условию задачи $\\alpha = \\beta$, то есть $3\\cdot\\alpha = 180^\\circ$\n",
    "\n",
    "**Ответ**: угол между лучом и плоскостью зеркала 60 градусов, или угол между лучом и вертикалью равен 30 градусов."
   ]
  },
  {
   "cell_type": "markdown",
   "metadata": {},
   "source": [
    "# 38.20\n",
    "\n",
    "![light](img/m3.png)\n",
    "\n",
    "Поместим источник света на расстоянии 3 см от вертикального зеркала и 6 см от горизонтального зеркала. Сколько источников увидит наблюдатель?\n",
    "\n",
    " 1. Отражение источника в вертикальном зеркале. Мнимый источник на глубине 3 см, симметрично относительно плоскости вертикального зеркала.\n",
    " \n",
    " 2. Отражение источника в горизонтальном зеркале. Мнимый источник на глубине 6 см, симметрично относительно плоскости горизонтального зеркала.\n",
    " \n",
    " 3. По правилам геометрической оптики у каждого из этих мнимых источников есть ещё один образ, который получается из мнимого источника отражением относительно второй плоскости. \n",
    "  - Отразив источник 1, расположенный на глубине 3 см от вертикали, относительно горизонтальной плоскости, получим мнимый источник на глубине 3 см от вертикали и 6 см от горизонтали. \n",
    "  - Отразив источник 2, расположенный на глубине 6 см от горизонтали, относительно вертикальной плоскости, получим мнимый источник на глубине 3 см от вертикали и 6 см от горизонтали. \n",
    "    Это один и тот же источник. Поэтому наблюдатель увидит три источника.\n",
    "    \n",
    "Ход лучей для каждого из мнимых источников изображен на рисунке."
   ]
  },
  {
   "cell_type": "markdown",
   "metadata": {},
   "source": [
    "# 38.47\n",
    "\n",
    "![fonar](img/fonar.png)\n",
    "\n",
    "Обозначим начальное расстояние от фонаря до шеста $L$. Тогда $\\large \\frac{h}{l_1} = \\frac{H}{L+l_1}$. после того, как фонарь передвинули на $s$ влево пропорциональность треугольников стала $\\large \\frac{h}{l_2} = \\frac{H}{s+L+l_2}$\n",
    "\n",
    "Выразим $L$ через остальные переменные: $L = H{\\large\\frac{l_1}{h}} - l_1$\n",
    "\n",
    "Перед тем, как подставить выражение для L во второе равенство, упростим его, избавившись от деления: $h(L+s+l_2)=Hl_2$\n",
    "\n",
    "$h(H{\\large\\frac{l_1}{h}} - l_1 +s+l_2) = Hl_2$\n",
    "\n",
    "$Hl_1 + h(s+l_2-l_1) = Hl_2$\n",
    "\n",
    "$H = h\\large\\frac{s+l_2-l_1}{l_2-l_1}$"
   ]
  },
  {
   "cell_type": "code",
   "execution_count": 29,
   "metadata": {},
   "outputs": [
    {
     "data": {
      "text/plain": [
       "3.9999999999999996"
      ]
     },
     "execution_count": 29,
     "metadata": {},
     "output_type": "execute_result"
    }
   ],
   "source": [
    "h=1;l1=0.8;l2=1.3;s=1.5\n",
    "\n",
    "\n",
    "h*(s+l2-l1)/(l2-l1)"
   ]
  },
  {
   "cell_type": "markdown",
   "metadata": {},
   "source": [
    "**Ответ**: высота фонаря 4 м"
   ]
  },
  {
   "cell_type": "markdown",
   "metadata": {},
   "source": [
    "# 38.48\n",
    "\n",
    "![m3](img/m4.jpg)\n",
    "\n",
    "Для того, чтобы луч света \"осветил глубокий колодец\", нужно чтобы отраженный свет падал вертикально вниз.\n",
    "\n",
    "Обозначим угол поворота зеркала $\\beta$, высоту Солнца над горизонтом $\\alpha$.\n",
    "\n",
    "Неизвестный угол между падающим светом и плоскостью зеркала обозначим $\\gamma$.\n",
    "\n",
    "Тогда нам нужно повернуть зеркало так, чтобы $\\beta + \\gamma = 90^\\circ$\n",
    "\n",
    "Выразим $\\gamma$ через остальные углы. Посмотрим на правый верхний квадрат рисунка. Углы $\\alpha, \\gamma$ и $\\beta'$ составляют прямой угол. Угол $\\beta' = 180^\\circ - 90^\\circ - \\beta = 90^\\circ - \\beta$\n",
    "\n",
    "Получаем систему уравнений:\n",
    "\n",
    "$\\begin{cases}\n",
    "  \\beta + \\gamma = 90^\\circ\\\\\n",
    "  \\alpha + \\gamma + (90^\\circ - \\beta) = 90^\\circ\n",
    "\\end{cases}\\\n",
    "$\n",
    "\n",
    "$\\gamma = 90^\\circ - \\beta$\n",
    "\n",
    "$\\alpha + 180^\\circ - 2\\beta = 90^\\circ$\n",
    "\n",
    "$\\beta = \\frac{1}{2}(90^\\circ + \\alpha)$"
   ]
  },
  {
   "cell_type": "code",
   "execution_count": 30,
   "metadata": {},
   "outputs": [
    {
     "data": {
      "text/plain": [
       "69.0"
      ]
     },
     "execution_count": 30,
     "metadata": {},
     "output_type": "execute_result"
    }
   ],
   "source": [
    "0.5*(90+48)"
   ]
  },
  {
   "cell_type": "markdown",
   "metadata": {},
   "source": [
    "**Ответ**: зеркало нужно повернуть на угол 69 градусов к горизонту"
   ]
  },
  {
   "cell_type": "markdown",
   "metadata": {},
   "source": [
    "# 38.51\n",
    "\n",
    "![36.51](img/36-51.png)\n",
    "\n",
    "Для построения изображений предмета в системе зеркал нужно поочередно выполнять операцию отражения образа относительно плоскости зеркала - сначала горизонтальное зеркало, затем наклонное зеркало, затем снова горизонтальное зеркало, затем снова наклонное и т.п.\n",
    "\n",
    "Когда завершать процесс? Когда изображение, полученное в ходе отражения очередного образа, совместится с реальным предметом.\n",
    "\n",
    "Ниже я написал программу на Python, которая строит изображения объекта AB. Всего получилось 5 изображений, шестое совпадёт с самим объектом."
   ]
  },
  {
   "cell_type": "code",
   "execution_count": 34,
   "metadata": {},
   "outputs": [],
   "source": [
    "alpha=math.pi/3 # 60 градусов\n",
    "\n",
    "# функция создаёт вектор с двумя координатами\n",
    "def vector(x,y):\n",
    "    return np.array((x,y))\n",
    "# вектор вдоль наклонной плоскости\n",
    "e = vector(np.cos(alpha), np.sin(alpha))\n",
    "# отражение от горизонтальной плоскости\n",
    "def reflect_x(point):\n",
    "    x,y = point\n",
    "    return vector(x,-y)\n",
    "\n",
    "# Отражение от наклонной плоскости\n",
    "def reflect_y(point):\n",
    "    ep = e*(sum(e*point))\n",
    "    shift = 2*(ep - point)\n",
    "    return point + shift"
   ]
  },
  {
   "cell_type": "code",
   "execution_count": 37,
   "metadata": {},
   "outputs": [],
   "source": [
    "L = 2; h=0.5\n",
    "\n",
    "A0 = vector(L,0); B0 = vector(L,h)\n",
    "\n",
    "A1,B1 = reflect_x(A0), reflect_x(B0)\n",
    "A2,B2 = reflect_y(A1), reflect_y(B1)\n",
    "\n",
    "A3,B3 = reflect_x(A2), reflect_x(B2)\n",
    "A4,B4 = reflect_y(A3), reflect_y(B3)\n",
    "\n",
    "A5,B5 = reflect_x(A4), reflect_x(B4)\n"
   ]
  },
  {
   "cell_type": "code",
   "execution_count": 82,
   "metadata": {},
   "outputs": [],
   "source": [
    "def draw_vector(A,B, **kwopts):\n",
    "    vec = B-A\n",
    "    plt.arrow(A[0],A[1], vec[0],vec[1], head_width=0.05, head_length=0.1, length_includes_head=True, **kwopts)\n",
    "\n",
    "def draw_line(A,B, **kwopts):\n",
    "    plt.plot((A[0],B[0]), (A[1],B[1]), **kwopts)\n",
    "    \n",
    "def draw_text(V, text, **kwargs):\n",
    "    plt.text(*V, text, **kwargs)"
   ]
  },
  {
   "cell_type": "code",
   "execution_count": 93,
   "metadata": {},
   "outputs": [
    {
     "data": {
      "image/png": "[encoded data removed]",
      "text/plain": [
       "<Figure size 720x720 with 1 Axes>"
      ]
     },
     "metadata": {
      "needs_background": "light"
     },
     "output_type": "display_data"
    }
   ],
   "source": [
    "_ = plt.figure(figsize=(10,10))\n",
    "ax = plt.gca()\n",
    "ax.set_aspect(1)\n",
    "ax.axis('off')\n",
    "\n",
    "draw_line(vector(0,0), vector(3,0))\n",
    "draw_line(vector(0,0), e*3)\n",
    "\n",
    "draw_line(vector(0,0), -vector(3,0), ls='--')\n",
    "draw_line(vector(0,0), -e*3, ls='--')\n",
    "\n",
    "draw_vector(A0,B0)\n",
    "draw_vector(A1,B1);draw_text(B1+vector(0.1,0), \"1\")\n",
    "draw_vector(A2,B2);draw_text(B2-vector(0.1,0), \"2\"); \n",
    "draw_vector(A3,B3);draw_text(B3, \"3\")\n",
    "draw_vector(A4,B4);draw_text(B4, \"4\")\n",
    "draw_vector(A5,B5);draw_text(B5, \"5\")\n",
    "\n",
    "draw_line((0,0), A2, ls=\"dashdot\")\n",
    "\n",
    "draw_vector(B1,B2, ls=':')\n",
    "draw_vector(B2,B3, ls=':')\n",
    "draw_vector(B4,B5, ls=':')\n",
    "draw_vector(B5,B0, ls=':')\n"
   ]
  },
  {
   "cell_type": "markdown",
   "metadata": {},
   "source": [
    "Первое отражение относительно горизонтальной плоскости. Получим изображение, помеченное цифрой 1.\n",
    "\n",
    "Отразим его относительно плоскости наклонного зеркала. Получим изображение, помеченное цифрой 2.\n",
    "\n",
    "Отразим второе изображение относительно плоскости горизонтального зеркала. Получим изображение, помеченное цифрой 3.\n",
    "\n",
    "Отразим третье изображение относительно плоскости наклонного зеркала. Получим изображение, помеченное цифрой 4.\n",
    "\n",
    "Отразим четвертое изображение относительно плоскости горизонтального зеркала. Получим изображение, помеченное цифрой 5.\n",
    "\n",
    "Если теперь отобразить пятое изображение относительно плоскости наклонного зеркала, то полученное изображение совместится с объектом AB. Следовательно, на пятом изображении процесс построения изображений завершён.\n",
    "\n",
    "**Ответ**: пять изображений\n"
   ]
  },
  {
   "cell_type": "markdown",
   "metadata": {},
   "source": [
    "# 38.54\n",
    "![38-54](img/38-54.png)"
   ]
  },
  {
   "cell_type": "markdown",
   "metadata": {},
   "source": [
    "![lens 1](img/l1.jpg)"
   ]
  },
  {
   "cell_type": "markdown",
   "metadata": {},
   "source": [
    "Решение каждого из случаев состоит из трёх частей:\n",
    "\n",
    " 1. Плоскость линзы. Для того, чтобы найти плоскость линзы, нужно соединить предмет $A$ и образ $A_1$ прямой линией. Плоскость линзы проходит там, где прямая пересечёт оптическую ось.\n",
    " \n",
    " 2. Фокус. Для нахождения фокуса нужно провески либо из предмета, либо из образа линию, параллельную оптической оси. Зафисировать точку, в которой эта линия пересекает плоскость линзы. Затем провести из найденной точки линию в образ (если первую линию чертили из предмета) либо в предмет. Фокус находится там, где эта линия пересечет оптическую ось.\n",
    " \n",
    " 3. Определить собирающая линза или рассеивающая.\n",
    " \n",
    "Пункты 1 и 2 для всех вариантов делаются просто и легко. Затруднение может быть только с пунктом 3.\n",
    "\n",
    " а. Линза собирающая, так как изображение находится с другой стороны от линзы.\n",
    " б. Линза собирающая, так так изображение мнимое для предмета, находящегося между фокальной плоскостью и плоскостью линзы.\n",
    " в. Линза рассеивающая, так как предмет находится за фокальной плоскостью, а изображение мнимое."
   ]
  },
  {
   "cell_type": "markdown",
   "metadata": {},
   "source": [
    "# 38.56\n",
    "\n",
    "![38.56](img/38-56.png)\n",
    "\n",
    "В этой задаче алгоритм из 38.54 не работает - предмет находится на оптической оси, поэтому линия, идущая из предмета на плоскость линзы совпадает с линией, соединяющей предмет и центр линзы.\n",
    "\n",
    "Поэтому нужно действовать немного иначе.\n",
    "\n",
    "![l2](img/l2.jpg)\n",
    "\n",
    "Проведём **произвольную** прямую $OB$ через центр линзы точку $O$.\n",
    "\n",
    "Эта прямая пересекает фокальную плоскость в точке $B$\n",
    "\n",
    "Теперь проведём линию $AC$, параллельную $OB$ через наш предмет, точку $A$. Благодаря тому, что параллельные лучи, проходящие через линзу, пересекаются в фокальной плоскости, прямая $AC$ после прохождения линзы преломляется и становится прямой $CB$. Эта прямая пересекает оптическую ось в точке $D$. Так как предмет, точка $A$ лежит на оптической оси, то и её образ тоже лежит на оптической оси. Следовательно, точка $D$ - образ точки $A$.\n",
    "\n",
    "**Ответ**: образ точки $A$ - точка $D$"
   ]
  },
  {
   "cell_type": "code",
   "execution_count": null,
   "metadata": {},
   "outputs": [],
   "source": []
  }
 ],
 "metadata": {
  "kernelspec": {
   "display_name": "Python 3",
   "language": "python",
   "name": "python3"
  },
  "language_info": {
   "codemirror_mode": {
    "name": "ipython",
    "version": 3
   },
   "file_extension": ".py",
   "mimetype": "text/x-python",
   "name": "python",
   "nbconvert_exporter": "python",
   "pygments_lexer": "ipython3",
   "version": "3.6.9"
  }
 },
 "nbformat": 4,
 "nbformat_minor": 4
}
